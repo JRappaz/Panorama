{
 "cells": [
  {
   "cell_type": "code",
   "execution_count": 1,
   "metadata": {},
   "outputs": [
    {
     "name": "stdout",
     "output_type": "stream",
     "text": [
      "Python version\n",
      "3.6.9 (default, Nov  7 2019, 10:44:02) \n",
      "[GCC 8.3.0]\n",
      "Version info.\n",
      "sys.version_info(major=3, minor=6, micro=9, releaselevel='final', serial=0)\n"
     ]
    }
   ],
   "source": [
    "# Standars libraries\n",
    "import os\n",
    "import json\n",
    "import pandas as pd\n",
    "import numpy as np\n",
    "import matplotlib.pyplot as plt\n",
    "from matplotlib.dates import DateFormatter\n",
    "import matplotlib.dates as mdates\n",
    "import seaborn as sns\n",
    "import pickle\n",
    "import itertools as it\n",
    "from collections import Counter\n",
    "import pyspark\n",
    "from pyspark import *\n",
    "from pyspark.sql import *\n",
    "from pyspark.sql.functions import sum as sum_\n",
    "\n",
    "# Utilities functions\n",
    "import sys\n",
    "sys.path.append('/home/fanfou/Panorama/notebooks/utils')\n",
    "\n",
    "print(\"Python version\")\n",
    "print (sys.version)\n",
    "print(\"Version info.\")\n",
    "print (sys.version_info)\n",
    "\n",
    "from visualization import *\n",
    "from tools import *\n",
    "\n",
    "# Display options\n",
    "pd.set_option('display.max_columns', None)\n",
    "pd.set_option('display.max_rows', 200)\n",
    "pd.set_option('display.max_colwidth', 199)"
   ]
  },
  {
   "cell_type": "code",
   "execution_count": 2,
   "metadata": {},
   "outputs": [
    {
     "data": {
      "text/plain": [
       "82863302"
      ]
     },
     "execution_count": 2,
     "metadata": {},
     "output_type": "execute_result"
    }
   ],
   "source": [
    "spark = SparkSession.builder.getOrCreate()\n",
    "sc = spark.sparkContext\n",
    "jsondf = spark.read.option(\"delimiter\", \";\").csv(\"/mnt/datastore/data/coronavirus/reactions/reactions.csv\");\n",
    "jsondf.count()"
   ]
  },
  {
   "cell_type": "code",
   "execution_count": 3,
   "metadata": {},
   "outputs": [
    {
     "data": {
      "text/plain": [
       "[Row(_c0='1232697449606787072', _c1='AgDemmie', _c2='2020-02-26 16:02:29', _c3='RT @DrDenaGrayson: @realDonaldTrump @CNN @CDCgov Trump’s own “experts” are completely clueless about #COVID19 (asking Twitter about the # o…', _c4='None', _c5='{\"user_mentions\": [{\"id\": 1651522832, \"indices\": [3, 17], \"id_str\": \"1651522832\", \"screen_name\": \"DrDenaGrayson\", \"name\": \"Dr. Dena Grayson\"}, {\"id\": 25073877, \"indices\": [19, 35], \"id_str\": \"25073877\", \"screen_name\": \"realDonaldTrump\", \"name\": \"Donald J. Trump\"}, {\"id\": 759251, \"indices\": [36, 40], \"id_str\": \"759251\", \"screen_name\": \"CNN\", \"name\": \"CNN\"}, {\"id\": 146569971, \"indices\": [41, 48], \"id_str\": \"146569971\", \"screen_name\": \"CDCgov\", \"name\": \"CDC\"}], \"symbols\": [], \"hashtags\": [{\"indices\": [101, 109], \"text\": \"COVID19\"}], \"urls\": []}')]"
      ]
     },
     "execution_count": 3,
     "metadata": {},
     "output_type": "execute_result"
    }
   ],
   "source": [
    "jsondf.head(1)"
   ]
  },
  {
   "cell_type": "code",
   "execution_count": 29,
   "metadata": {},
   "outputs": [
    {
     "name": "stdout",
     "output_type": "stream",
     "text": [
      "+-------------------+--------+\n",
      "|                _c4|   count|\n",
      "+-------------------+--------+\n",
      "|               None|68224256|\n",
      "|               null|   37759|\n",
      "|1237027356314869761|    2904|\n",
      "|1236634209516752896|    2408|\n",
      "|1234999382090514432|    1998|\n",
      "|1237165063565447168|    1935|\n",
      "|1233256774964273152|    1742|\n",
      "|1232652371832004608|    1529|\n",
      "|1233799741630230530|    1504|\n",
      "|1236029449042198528|    1447|\n",
      "|1235604572850343937|    1396|\n",
      "|1233852253682962432|    1266|\n",
      "|1236778368533700609|    1191|\n",
      "|1233555987149312000|    1078|\n",
      "|1235573492004904961|    1058|\n",
      "|1233022666749157379|    1015|\n",
      "|1234211248373403648|     998|\n",
      "|1236821135964004352|     997|\n",
      "|1235665090432708608|     863|\n",
      "|1236689044366557184|     848|\n",
      "+-------------------+--------+\n",
      "only showing top 20 rows\n",
      "\n"
     ]
    }
   ],
   "source": [
    "jsondf.groupby(\"_c4\").count().sort(col(\"count\").desc()).show()"
   ]
  },
  {
   "cell_type": "code",
   "execution_count": 34,
   "metadata": {},
   "outputs": [
    {
     "name": "stdout",
     "output_type": "stream",
     "text": [
      "+-------------------+--------+\n",
      "|                _c4|   count|\n",
      "+-------------------+--------+\n",
      "|               None|56178465|\n",
      "|               null|    1452|\n",
      "|1234197800608501761|       3|\n",
      "|1234150372668821504|       3|\n",
      "|1234186283649552384|       3|\n",
      "|1234942802951311367|       2|\n",
      "|1232593740008542209|       2|\n",
      "|1234308437338722305|       2|\n",
      "|1234109126864707585|       2|\n",
      "|1233408867033395200|       2|\n",
      "|1235010826760794112|       2|\n",
      "|1234648529458618369|       2|\n",
      "|1236888013675864064|       2|\n",
      "|1235940185923358725|       2|\n",
      "|1233506758762647555|       2|\n",
      "|1234307914438889473|       2|\n",
      "|1234710091334594560|       1|\n",
      "|1234705202525110272|       1|\n",
      "|1234407306781188096|       1|\n",
      "|1237230139563544577|       1|\n",
      "+-------------------+--------+\n",
      "only showing top 20 rows\n",
      "\n"
     ]
    }
   ],
   "source": [
    "jsondf.filter(col(\"_c3\").like('RT%')).groupby(\"_c4\").count().sort(col(\"count\").desc()).show()"
   ]
  },
  {
   "cell_type": "code",
   "execution_count": null,
   "metadata": {},
   "outputs": [],
   "source": []
  }
 ],
 "metadata": {
  "kernelspec": {
   "display_name": "Python 3",
   "language": "python",
   "name": "python3"
  },
  "language_info": {
   "codemirror_mode": {
    "name": "ipython",
    "version": 3
   },
   "file_extension": ".py",
   "mimetype": "text/x-python",
   "name": "python",
   "nbconvert_exporter": "python",
   "pygments_lexer": "ipython3",
   "version": "3.7.5"
  }
 },
 "nbformat": 4,
 "nbformat_minor": 4
}
